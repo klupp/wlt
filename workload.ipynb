{
 "cells": [
  {
   "cell_type": "code",
   "execution_count": 15,
   "metadata": {},
   "outputs": [],
   "source": [
    "import numpy as np\n",
    "import datetime as dt\n",
    "from dateutil.parser import parse"
   ]
  },
  {
   "cell_type": "code",
   "execution_count": 41,
   "metadata": {},
   "outputs": [
    {
     "name": "stdout",
     "output_type": "stream",
     "text": [
      "Working days: 8\n",
      "Working time: 12:48:00\n"
     ]
    }
   ],
   "source": [
    "# week_hours = int(input(\"Weekly working hours:\"))\n",
    "week_hours = 8\n",
    "\n",
    "#start = input(\"Calculate working hours starting from date:\")\n",
    "start = dt.datetime.today().replace(day=1).date()\n",
    "end = (dt.datetime.today() + dt.timedelta(days=1)).date()\n",
    "\n",
    "work_days = True\n",
    "\n",
    "if work_days:\n",
    "    days = np.busday_count(start, end)\n",
    "    num_work_days = 5\n",
    "else:\n",
    "    days = np.busday_count(start, end, weekmask='1111111')\n",
    "    num_work_days = 7\n",
    "print(\"Working days:\", days)\n",
    "\n",
    "total_working_hours = days * (week_hours / num_work_days)\n",
    "total_working_time = dt.timedelta(milliseconds = total_working_hours * 3600000)\n",
    "print(\"Working time:\", str(total_working_time))"
   ]
  },
  {
   "cell_type": "code",
   "execution_count": 42,
   "metadata": {},
   "outputs": [
    {
     "name": "stdin",
     "output_type": "stream",
     "text": [
      "Enter the time already worked: 13:12:12\n"
     ]
    },
    {
     "name": "stdout",
     "output_type": "stream",
     "text": [
      "You have: 0:24:01 surplus.\n"
     ]
    }
   ],
   "source": [
    "import re\n",
    "\n",
    "regex = re.compile(r'((?P<hours>\\d+?):)?((?P<minutes>\\d+?):)?((?P<seconds>\\d+?))?')\n",
    "\n",
    "def get_worked_time():\n",
    "    t = input(\"Enter the time already worked:\")\n",
    "    parts = regex.match(t)\n",
    "    if not parts:\n",
    "        return\n",
    "    parts = parts.groupdict()\n",
    "    time_params = {}\n",
    "    for (name, param) in parts.items():\n",
    "        if param:\n",
    "            time_params[name] = int(param)\n",
    "    return dt.timedelta(**time_params)\n",
    "\n",
    "\n",
    "worked_time = get_worked_time()\n",
    "remaining_working_time = total_working_time - worked_time\n",
    "if (remaining_working_time.total_seconds() >= 0):\n",
    "    print(\"Remaining working time:\", str(remaining_working_time))\n",
    "else:\n",
    "    print(\"You have:\", str(worked_time - total_working_time), \"surplus.\")"
   ]
  },
  {
   "cell_type": "code",
   "execution_count": 52,
   "metadata": {},
   "outputs": [
    {
     "data": {
      "text/plain": [
       "datetime.datetime(2020, 8, 1, 0, 0)"
      ]
     },
     "execution_count": 52,
     "metadata": {},
     "output_type": "execute_result"
    }
   ],
   "source": [
    "dt.datetime.strptime('2020-08-01', '%Y-%m-%d')"
   ]
  },
  {
   "cell_type": "code",
   "execution_count": null,
   "metadata": {},
   "outputs": [],
   "source": []
  }
 ],
 "metadata": {
  "kernelspec": {
   "display_name": "Python 3",
   "language": "python",
   "name": "python3"
  },
  "language_info": {
   "codemirror_mode": {
    "name": "ipython",
    "version": 3
   },
   "file_extension": ".py",
   "mimetype": "text/x-python",
   "name": "python",
   "nbconvert_exporter": "python",
   "pygments_lexer": "ipython3",
   "version": "3.8.5"
  }
 },
 "nbformat": 4,
 "nbformat_minor": 4
}
